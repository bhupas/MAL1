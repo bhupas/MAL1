{
 "cells": [
  {
   "cell_type": "markdown",
   "metadata": {},
   "source": [
    "# Support vector machines and non-linearly separable data"
   ]
  },
  {
   "cell_type": "markdown",
   "metadata": {},
   "source": [
    "In this notebook, we show how SVMs can be used to find non-linear decision boundaries."
   ]
  },
  {
   "cell_type": "code",
   "execution_count": null,
   "metadata": {},
   "outputs": [],
   "source": [
    "%matplotlib inline\n",
    "import warnings; warnings.simplefilter('ignore')\n",
    "from sklearn.linear_model import LogisticRegression\n",
    "from sklearn.svm import LinearSVC\n",
    "from sklearn.svm import SVC\n",
    "from sklearn.model_selection import train_test_split\n",
    "\n",
    "import numpy as np\n",
    "import matplotlib.pyplot as plt\n",
    "\n",
    "import mglearn\n",
    "from sklearn.datasets import make_blobs\n",
    "from sklearn.datasets import load_breast_cancer\n",
    "\n",
    "from sklearn.preprocessing import MinMaxScaler"
   ]
  },
  {
   "cell_type": "markdown",
   "metadata": {},
   "source": [
    "## Non-linearly separable data "
   ]
  },
  {
   "cell_type": "markdown",
   "metadata": {},
   "source": [
    "Let's create a 2D data set that cannot be separated with a straight line (that is, the dataset is not linearly separable):"
   ]
  },
  {
   "cell_type": "code",
   "execution_count": null,
   "metadata": {},
   "outputs": [],
   "source": [
    "X, y = make_blobs(n_samples=50, centers=2,random_state=0, cluster_std=0.60)\n",
    "mglearn.discrete_scatter(X[:,0],X[:,1], y)"
   ]
  },
  {
   "cell_type": "markdown",
   "metadata": {},
   "source": [
    "We'll first try to train a linear model - logistic regression - on this dataset:"
   ]
  },
  {
   "cell_type": "code",
   "execution_count": null,
   "metadata": {},
   "outputs": [],
   "source": [
    "logreg = LogisticRegression().fit(X,y)\n",
    "print(\"Accuracy obtained with logistic regression: {:.2f}\".format(logreg.score(X,y)))\n",
    "\n",
    "# Plotting the linear svm decision boundary:\n",
    "mglearn.discrete_scatter(X[:,0],X[:,1], y)\n",
    "mglearn.plots.plot_2d_separator(logreg, X, eps=.5, fill=True, alpha=0.3)\n",
    "plt.title(\"Decision boundary for logistic regression\")"
   ]
  },
  {
   "cell_type": "markdown",
   "metadata": {},
   "source": [
    "The logistic regression does a terrible job!\n",
    "We need an algorithm that can create a decision boundary which is not simply a straight line!"
   ]
  },
  {
   "cell_type": "markdown",
   "metadata": {},
   "source": [
    "## Kernelized support vector machines"
   ]
  },
  {
   "cell_type": "markdown",
   "metadata": {},
   "source": [
    "By using a so-called \"Kernelized support vector machine\" classifier, we allow the algorithm to use a so-called *kernel* to consider non-linear combinations of the features in its search for a decision boundary. And that is exactly what is needed in this case."
   ]
  },
  {
   "cell_type": "code",
   "execution_count": null,
   "metadata": {},
   "outputs": [],
   "source": [
    "svm = SVC()\n",
    "svm.fit(X,y)\n",
    "print(\"Accuracy obtained with a kernelized SVM: {:.2f}\".format(svm.score(X,y)))"
   ]
  },
  {
   "cell_type": "code",
   "execution_count": null,
   "metadata": {},
   "outputs": [],
   "source": [
    "mglearn.discrete_scatter(X[:,0],X[:,1], y)\n",
    "mglearn.plots.plot_2d_separator(svm, X, eps=.5, fill=True, alpha=0.15)"
   ]
  },
  {
   "cell_type": "markdown",
   "metadata": {},
   "source": [
    "### Hyperparameters of the kernelized support vector machines"
   ]
  },
  {
   "cell_type": "markdown",
   "metadata": {},
   "source": [
    "Three of the most important hyperparameters of the SVM are:\n",
    "\n",
    "- Kernel: Often \"linear\" (only allows linear decision boundaries), \"poly\" (considers all polynomial interactions upto a default degree of 3) and \"rbf\". The last one is the \"Radial Basis Function\", which is extremely powerful and the default kernel.\n",
    "- C: Regularization parameter, which determines how much you are penalized for each misclassified datapoint (default: 1)\n",
    "- gamma (only for 'rbf'-kernel): controls the complexity of the decision boundary; the smaller gamma is, the larger \"area of influence\" of each support vector. Therefore, a small value gives a simpler decision boundary (default: 1/n_features)\n",
    "\n",
    "Below, we illustrate the effect of the C and the gamma parameter on the dataset above."
   ]
  },
  {
   "cell_type": "code",
   "execution_count": null,
   "metadata": {},
   "outputs": [],
   "source": [
    "fig, axes = plt.subplots(3, 3, figsize=(15,10))\n",
    "\n",
    "for ax, C in zip(axes, [0.1, 1, 1000]):\n",
    "    for a, gamma in zip(ax,[0.1, 1, 10]):\n",
    "        svm = SVC(C=C, gamma=gamma).fit(X,y)\n",
    "        mglearn.discrete_scatter(X[:,0],X[:,1], y, ax=a)\n",
    "        mglearn.plots.plot_2d_separator(svm, X, eps=.5, fill=True, alpha=0.3, ax=a)\n",
    "        a.set_title(\"C={:.3f}, gamma={:.3f}\".format(C,gamma))"
   ]
  },
  {
   "cell_type": "markdown",
   "metadata": {},
   "source": [
    "## SVM on cancer dataset"
   ]
  },
  {
   "cell_type": "markdown",
   "metadata": {},
   "source": [
    "Let's try to apply a kernelized SVM to the cancer data set:"
   ]
  },
  {
   "cell_type": "code",
   "execution_count": null,
   "metadata": {},
   "outputs": [],
   "source": [
    "cancer = load_breast_cancer()\n",
    "X_train, X_test, y_train, y_test = train_test_split(cancer.data, cancer.target, \n",
    "                                                   stratify=cancer.target, \n",
    "                                                   random_state=42)"
   ]
  },
  {
   "cell_type": "code",
   "execution_count": null,
   "metadata": {},
   "outputs": [],
   "source": [
    "svc = SVC()\n",
    "svc.fit(X_train, y_train)\n",
    "\n",
    "print(\"Accuracy on training set: {:.2f}\".format(svc.score(X_train, y_train)))\n",
    "print(\"Accuracy on test set: {:.2f}\".format(svc.score(X_test, y_test)))"
   ]
  },
  {
   "cell_type": "markdown",
   "metadata": {},
   "source": [
    "Scaling is extremely important in this case! We can rescale the data so all the features vary from 0 to 1 using the MinMaxScaler-function from sklearn:"
   ]
  },
  {
   "cell_type": "code",
   "execution_count": null,
   "metadata": {},
   "outputs": [],
   "source": [
    "scaler = MinMaxScaler()\n",
    "scaler.fit(X_train)\n",
    "X_train_scaled = scaler.transform(X_train)\n",
    "X_test_scaled = scaler.transform(X_test)\n",
    "\n",
    "svc.fit(X_train_scaled, y_train)\n",
    "print(\"Accuracy on training set: {:.2f}\".format(svc.score(X_train_scaled, y_train)))\n",
    "print(\"Accuracy on test set: {:.2f}\".format(svc.score(X_test_scaled, y_test)))"
   ]
  }
 ],
 "metadata": {
  "kernelspec": {
   "display_name": "Python 3 (ipykernel)",
   "language": "python",
   "name": "python3"
  },
  "language_info": {
   "codemirror_mode": {
    "name": "ipython",
    "version": 3
   },
   "file_extension": ".py",
   "mimetype": "text/x-python",
   "name": "python",
   "nbconvert_exporter": "python",
   "pygments_lexer": "ipython3",
   "version": "3.11.4"
  }
 },
 "nbformat": 4,
 "nbformat_minor": 2
}
